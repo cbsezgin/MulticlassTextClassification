{
 "cells": [
  {
   "cell_type": "code",
   "execution_count": 32,
   "id": "initial_id",
   "metadata": {
    "collapsed": true,
    "ExecuteTime": {
     "end_time": "2023-12-21T18:41:50.362860Z",
     "start_time": "2023-12-21T18:41:50.335224Z"
    }
   },
   "outputs": [],
   "source": [
    "import numpy as np\n",
    "import pandas as pd\n",
    "import re\n",
    "import nltk\n",
    "\n",
    "import config as c\n",
    "from utils import save_file, load_file\n",
    "from processing import token_index\n",
    "from dataset import TextDataset\n",
    "\n",
    "from sklearn.preprocessing import LabelEncoder\n",
    "from tqdm import tqdm\n",
    "from nltk.tokenize import word_tokenize"
   ]
  },
  {
   "cell_type": "markdown",
   "source": [
    "# Processing Glove Embeddings"
   ],
   "metadata": {
    "collapsed": false
   },
   "id": "7a4f13a85f1c3f38"
  },
  {
   "cell_type": "code",
   "execution_count": 2,
   "outputs": [],
   "source": [
    "with open(c.glove_vector_path,\"rt\") as f:\n",
    "    emb = f.readlines()"
   ],
   "metadata": {
    "collapsed": false,
    "ExecuteTime": {
     "end_time": "2023-12-21T13:49:22.495177Z",
     "start_time": "2023-12-21T13:49:22.378865Z"
    }
   },
   "id": "8b82f824b4d9259e"
  },
  {
   "cell_type": "code",
   "execution_count": 3,
   "outputs": [
    {
     "data": {
      "text/plain": "400000"
     },
     "execution_count": 3,
     "metadata": {},
     "output_type": "execute_result"
    }
   ],
   "source": [
    "len(emb)"
   ],
   "metadata": {
    "collapsed": false,
    "ExecuteTime": {
     "end_time": "2023-12-21T13:49:22.500558Z",
     "start_time": "2023-12-21T13:49:22.496248Z"
    }
   },
   "id": "15cf75e1b70e2281"
  },
  {
   "cell_type": "code",
   "execution_count": 4,
   "outputs": [],
   "source": [
    "vocab = []\n",
    "embed = []\n",
    "for i in emb:\n",
    "    vocab.append(i.split()[0])\n",
    "    embed.append(i.split()[1:])"
   ],
   "metadata": {
    "collapsed": false,
    "ExecuteTime": {
     "end_time": "2023-12-21T13:49:24.735083Z",
     "start_time": "2023-12-21T13:49:22.556885Z"
    }
   },
   "id": "8c8fc1f4d4a68d18"
  },
  {
   "cell_type": "code",
   "execution_count": 5,
   "outputs": [],
   "source": [
    "embed = np.array(embed, dtype=np.float32)"
   ],
   "metadata": {
    "collapsed": false,
    "ExecuteTime": {
     "end_time": "2023-12-21T13:49:26.083937Z",
     "start_time": "2023-12-21T13:49:25.945828Z"
    }
   },
   "id": "546f36e1a36d0aa5"
  },
  {
   "cell_type": "code",
   "execution_count": 6,
   "outputs": [],
   "source": [
    "vocab = [\"<pad>\", \"<unk>\"] + vocab"
   ],
   "metadata": {
    "collapsed": false,
    "ExecuteTime": {
     "end_time": "2023-12-21T13:49:26.095146Z",
     "start_time": "2023-12-21T13:49:26.084128Z"
    }
   },
   "id": "d4c5bd78d412917"
  },
  {
   "cell_type": "code",
   "execution_count": 7,
   "outputs": [],
   "source": [
    "embed = np.vstack([np.ones(50, dtype=np.float32), np.mean(embed, axis=0), embed])"
   ],
   "metadata": {
    "collapsed": false,
    "ExecuteTime": {
     "end_time": "2023-12-21T13:49:26.135781Z",
     "start_time": "2023-12-21T13:49:26.093051Z"
    }
   },
   "id": "6e655c3e2ef201f2"
  },
  {
   "cell_type": "code",
   "execution_count": 8,
   "outputs": [],
   "source": [
    "save_file(c.embedding_path, embed)\n",
    "save_file(c.vocab_path, vocab)"
   ],
   "metadata": {
    "collapsed": false,
    "ExecuteTime": {
     "end_time": "2023-12-21T13:49:26.270136Z",
     "start_time": "2023-12-21T13:49:26.137703Z"
    }
   },
   "id": "eb16a8e00e4f6260"
  },
  {
   "cell_type": "markdown",
   "source": [
    "# Processing the Text Data"
   ],
   "metadata": {
    "collapsed": false
   },
   "id": "9aa4c59fb73f6b8a"
  },
  {
   "cell_type": "code",
   "execution_count": 9,
   "outputs": [],
   "source": [
    "data = pd.read_csv(c.data_path)"
   ],
   "metadata": {
    "collapsed": false,
    "ExecuteTime": {
     "end_time": "2023-12-21T13:49:36.328967Z",
     "start_time": "2023-12-21T13:49:26.270707Z"
    }
   },
   "id": "3c4f7a09410a4e9b"
  },
  {
   "cell_type": "code",
   "execution_count": 10,
   "outputs": [],
   "source": [
    "data.dropna(subset=[c.text_col_name], inplace=True)"
   ],
   "metadata": {
    "collapsed": false,
    "ExecuteTime": {
     "end_time": "2023-12-21T13:49:36.680011Z",
     "start_time": "2023-12-21T13:49:36.328356Z"
    }
   },
   "id": "7cd4b6da64c46ffa"
  },
  {
   "cell_type": "code",
   "execution_count": 11,
   "outputs": [],
   "source": [
    "data.replace({c.label_col: c.product_map}, inplace=True)"
   ],
   "metadata": {
    "collapsed": false,
    "ExecuteTime": {
     "end_time": "2023-12-21T13:49:36.957925Z",
     "start_time": "2023-12-21T13:49:36.694710Z"
    }
   },
   "id": "86c0e454ccbb79e7"
  },
  {
   "cell_type": "code",
   "execution_count": 12,
   "outputs": [],
   "source": [
    "label_encoder = LabelEncoder()\n",
    "label_encoder.fit(data[c.label_col])\n",
    "labels = label_encoder.transform(data[c.label_col])"
   ],
   "metadata": {
    "collapsed": false,
    "ExecuteTime": {
     "end_time": "2023-12-21T13:49:37.008323Z",
     "start_time": "2023-12-21T13:49:37.005700Z"
    }
   },
   "id": "3ca3d963ccce5148"
  },
  {
   "cell_type": "code",
   "execution_count": 13,
   "outputs": [
    {
     "data": {
      "text/plain": "array(['card', 'credit_report', 'debt_collection', 'loan',\n       'money_transfer', 'mortgage', 'others', 'savings_account',\n       'vehicle_loan'], dtype=object)"
     },
     "execution_count": 13,
     "metadata": {},
     "output_type": "execute_result"
    }
   ],
   "source": [
    "label_encoder.classes_"
   ],
   "metadata": {
    "collapsed": false,
    "ExecuteTime": {
     "end_time": "2023-12-21T13:49:37.011242Z",
     "start_time": "2023-12-21T13:49:37.008135Z"
    }
   },
   "id": "84e7b9b5105d0d40"
  },
  {
   "cell_type": "code",
   "execution_count": 14,
   "outputs": [
    {
     "data": {
      "text/plain": "1             vehicle_loan\n7            credit_report\n8            credit_report\n10           credit_report\n13           credit_report\n                ...       \n2326240               card\n2326241    debt_collection\n2326242           mortgage\n2326243      credit_report\n2326244      credit_report\nName: Product, Length: 809343, dtype: object"
     },
     "execution_count": 14,
     "metadata": {},
     "output_type": "execute_result"
    }
   ],
   "source": [
    "data[c.label_col]"
   ],
   "metadata": {
    "collapsed": false,
    "ExecuteTime": {
     "end_time": "2023-12-21T13:49:37.016113Z",
     "start_time": "2023-12-21T13:49:37.013699Z"
    }
   },
   "id": "ea153341aec22fc3"
  },
  {
   "cell_type": "code",
   "execution_count": 16,
   "outputs": [],
   "source": [
    "save_file(c.label_path, labels)\n",
    "save_file(c.label_encoder_path, label_encoder)"
   ],
   "metadata": {
    "collapsed": false,
    "ExecuteTime": {
     "end_time": "2023-12-21T13:49:42.842165Z",
     "start_time": "2023-12-21T13:49:42.835322Z"
    }
   },
   "id": "2ef19822b5cbe122"
  },
  {
   "cell_type": "code",
   "execution_count": 17,
   "outputs": [],
   "source": [
    "input_text = data[c.text_col_name]"
   ],
   "metadata": {
    "collapsed": false,
    "ExecuteTime": {
     "end_time": "2023-12-21T18:22:52.008009Z",
     "start_time": "2023-12-21T18:22:52.007297Z"
    }
   },
   "id": "cba2f72c32ac9e6f"
  },
  {
   "cell_type": "code",
   "execution_count": 19,
   "outputs": [
    {
     "name": "stderr",
     "output_type": "stream",
     "text": [
      "100%|██████████| 809343/809343 [00:02<00:00, 383521.64it/s]\n"
     ]
    }
   ],
   "source": [
    "input_text = [i.lower() for i in tqdm(input_text)]"
   ],
   "metadata": {
    "collapsed": false,
    "ExecuteTime": {
     "end_time": "2023-12-21T18:23:59.461663Z",
     "start_time": "2023-12-21T18:23:57.269742Z"
    }
   },
   "id": "de4d810c92339c65"
  },
  {
   "cell_type": "code",
   "execution_count": 22,
   "outputs": [
    {
     "name": "stderr",
     "output_type": "stream",
     "text": [
      "\n",
      "  0%|          | 0/809343 [00:00<?, ?it/s]\u001B[A\n",
      "  1%|          | 4196/809343 [00:00<00:19, 41952.44it/s]\u001B[A\n",
      "  1%|          | 9550/809343 [00:00<00:16, 48762.43it/s]\u001B[A\n",
      "  2%|▏         | 15008/809343 [00:00<00:15, 51415.75it/s]\u001B[A\n",
      "  3%|▎         | 20692/809343 [00:00<00:14, 53555.53it/s]\u001B[A\n",
      "  3%|▎         | 26570/809343 [00:00<00:14, 55426.38it/s]\u001B[A\n",
      "  4%|▍         | 32364/809343 [00:00<00:13, 56274.69it/s]\u001B[A\n",
      "  5%|▍         | 38276/809343 [00:00<00:13, 57200.39it/s]\u001B[A\n",
      "  5%|▌         | 44086/809343 [00:00<00:13, 57481.60it/s]\u001B[A\n",
      "  6%|▌         | 50141/809343 [00:00<00:12, 58438.04it/s]\u001B[A\n",
      "  7%|▋         | 56193/809343 [00:01<00:12, 59078.87it/s]\u001B[A\n",
      "  8%|▊         | 62201/809343 [00:01<00:12, 59381.04it/s]\u001B[A\n",
      "  8%|▊         | 68140/809343 [00:01<00:12, 59209.37it/s]\u001B[A\n",
      "  9%|▉         | 74198/809343 [00:01<00:12, 59620.65it/s]\u001B[A\n",
      " 10%|▉         | 80326/809343 [00:01<00:12, 60120.24it/s]\u001B[A\n",
      " 11%|█         | 86843/809343 [00:01<00:11, 61637.36it/s]\u001B[A\n",
      " 11%|█▏        | 93054/809343 [00:01<00:11, 61774.87it/s]\u001B[A\n",
      " 12%|█▏        | 99232/809343 [00:01<00:11, 60755.25it/s]\u001B[A\n",
      " 13%|█▎        | 105513/809343 [00:01<00:11, 61362.66it/s]\u001B[A\n",
      " 14%|█▍        | 111667/809343 [00:01<00:11, 61413.66it/s]\u001B[A\n",
      " 15%|█▍        | 117811/809343 [00:02<00:11, 60904.96it/s]\u001B[A\n",
      " 15%|█▌        | 124060/809343 [00:02<00:11, 61372.48it/s]\u001B[A\n",
      " 16%|█▌        | 130503/809343 [00:02<00:10, 62276.33it/s]\u001B[A\n",
      " 17%|█▋        | 136733/809343 [00:02<00:10, 62184.97it/s]\u001B[A\n",
      " 18%|█▊        | 142953/809343 [00:02<00:10, 61632.48it/s]\u001B[A\n",
      " 18%|█▊        | 149490/809343 [00:02<00:10, 62739.65it/s]\u001B[A\n",
      " 19%|█▉        | 156280/809343 [00:02<00:10, 64277.08it/s]\u001B[A\n",
      " 20%|██        | 162786/809343 [00:02<00:10, 64507.98it/s]\u001B[A\n",
      " 21%|██        | 169239/809343 [00:02<00:10, 63828.27it/s]\u001B[A\n",
      " 22%|██▏       | 175625/809343 [00:02<00:10, 62579.12it/s]\u001B[A\n",
      " 23%|██▎       | 182357/809343 [00:03<00:09, 63970.23it/s]\u001B[A\n",
      " 23%|██▎       | 189005/809343 [00:03<00:09, 64702.76it/s]\u001B[A\n",
      " 24%|██▍       | 195482/809343 [00:03<00:09, 64275.64it/s]\u001B[A\n",
      " 25%|██▍       | 201915/809343 [00:03<00:09, 61924.99it/s]\u001B[A\n",
      " 26%|██▌       | 208263/809343 [00:03<00:09, 62373.81it/s]\u001B[A\n",
      " 27%|██▋       | 214594/809343 [00:03<00:09, 62647.45it/s]\u001B[A\n",
      " 27%|██▋       | 220871/809343 [00:03<00:09, 62676.02it/s]\u001B[A\n",
      " 28%|██▊       | 227147/809343 [00:03<00:09, 62675.11it/s]\u001B[A\n",
      " 29%|██▉       | 233421/809343 [00:03<00:09, 61278.85it/s]\u001B[A\n",
      " 30%|██▉       | 239758/809343 [00:03<00:09, 61892.15it/s]\u001B[A\n",
      " 30%|███       | 245956/809343 [00:04<00:09, 61782.34it/s]\u001B[A\n",
      " 31%|███       | 252140/809343 [00:04<00:09, 61736.69it/s]\u001B[A\n",
      " 32%|███▏      | 258318/809343 [00:04<00:09, 60106.28it/s]\u001B[A\n",
      " 33%|███▎      | 264340/809343 [00:04<00:09, 59066.20it/s]\u001B[A\n",
      " 33%|███▎      | 270256/809343 [00:04<00:09, 58084.06it/s]\u001B[A\n",
      " 34%|███▍      | 276072/809343 [00:04<00:09, 55643.19it/s]\u001B[A\n",
      " 35%|███▍      | 281657/809343 [00:04<00:09, 53178.10it/s]\u001B[A\n",
      " 36%|███▌      | 287330/809343 [00:04<00:09, 54169.47it/s]\u001B[A\n",
      " 36%|███▌      | 292774/809343 [00:04<00:09, 54111.58it/s]\u001B[A\n",
      " 37%|███▋      | 298696/809343 [00:05<00:09, 55585.68it/s]\u001B[A\n",
      " 38%|███▊      | 304741/809343 [00:05<00:08, 57006.31it/s]\u001B[A\n",
      " 38%|███▊      | 310459/809343 [00:05<00:08, 55705.02it/s]\u001B[A\n",
      " 39%|███▉      | 316181/809343 [00:05<00:08, 56144.42it/s]\u001B[A\n",
      " 40%|███▉      | 322043/809343 [00:05<00:08, 56867.24it/s]\u001B[A\n",
      " 40%|████      | 327741/809343 [00:05<00:08, 55965.62it/s]\u001B[A\n",
      " 41%|████      | 333607/809343 [00:05<00:08, 56755.75it/s]\u001B[A\n",
      " 42%|████▏     | 339364/809343 [00:05<00:08, 56991.86it/s]\u001B[A\n",
      " 43%|████▎     | 345070/809343 [00:05<00:08, 56361.48it/s]\u001B[A\n",
      " 43%|████▎     | 350712/809343 [00:05<00:08, 54533.52it/s]\u001B[A\n",
      " 44%|████▍     | 356672/809343 [00:06<00:08, 55996.26it/s]\u001B[A\n",
      " 45%|████▍     | 362582/809343 [00:06<00:07, 56903.92it/s]\u001B[A\n",
      " 46%|████▌     | 368576/809343 [00:06<00:07, 57798.94it/s]\u001B[A\n",
      " 46%|████▋     | 374573/809343 [00:06<00:07, 58441.24it/s]\u001B[A\n",
      " 47%|████▋     | 380426/809343 [00:06<00:07, 58213.79it/s]\u001B[A\n",
      " 48%|████▊     | 386801/809343 [00:06<00:07, 59859.22it/s]\u001B[A\n",
      " 49%|████▊     | 392793/809343 [00:06<00:07, 54216.07it/s]\u001B[A\n",
      " 49%|████▉     | 398797/809343 [00:06<00:07, 55833.58it/s]\u001B[A\n",
      " 50%|████▉     | 404510/809343 [00:06<00:07, 56200.16it/s]\u001B[A\n",
      " 51%|█████     | 410672/809343 [00:06<00:06, 57760.86it/s]\u001B[A\n",
      " 52%|█████▏    | 416834/809343 [00:07<00:06, 58871.28it/s]\u001B[A\n",
      " 52%|█████▏    | 423315/809343 [00:07<00:06, 60619.13it/s]\u001B[A\n",
      " 53%|█████▎    | 429407/809343 [00:07<00:06, 57890.70it/s]\u001B[A\n",
      " 54%|█████▍    | 435241/809343 [00:07<00:06, 57658.89it/s]\u001B[A\n",
      " 55%|█████▍    | 441626/809343 [00:07<00:06, 59450.51it/s]\u001B[A\n",
      " 55%|█████▌    | 447928/809343 [00:07<00:05, 60494.11it/s]\u001B[A\n",
      " 56%|█████▌    | 454312/809343 [00:07<00:05, 61480.12it/s]\u001B[A\n",
      " 57%|█████▋    | 460478/809343 [00:07<00:05, 61419.26it/s]\u001B[A\n",
      " 58%|█████▊    | 466984/809343 [00:07<00:05, 62497.53it/s]\u001B[A\n",
      " 58%|█████▊    | 473244/809343 [00:07<00:05, 61535.08it/s]\u001B[A\n",
      " 59%|█████▉    | 479407/809343 [00:08<00:05, 60482.34it/s]\u001B[A\n",
      " 60%|█████▉    | 485465/809343 [00:08<00:05, 59087.57it/s]\u001B[A\n",
      " 61%|██████    | 491430/809343 [00:08<00:05, 59248.49it/s]\u001B[A\n",
      " 61%|██████▏   | 497620/809343 [00:08<00:05, 60024.81it/s]\u001B[A\n",
      " 62%|██████▏   | 503630/809343 [00:08<00:05, 59655.00it/s]\u001B[A\n",
      " 63%|██████▎   | 510190/809343 [00:08<00:04, 61404.53it/s]\u001B[A\n",
      " 64%|██████▍   | 516813/809343 [00:08<00:04, 62835.10it/s]\u001B[A\n",
      " 65%|██████▍   | 523103/809343 [00:08<00:04, 62064.60it/s]\u001B[A\n",
      " 65%|██████▌   | 529393/809343 [00:08<00:04, 62310.30it/s]\u001B[A\n",
      " 66%|██████▌   | 535629/809343 [00:09<00:04, 60756.49it/s]\u001B[A\n",
      " 67%|██████▋   | 541716/809343 [00:09<00:04, 59171.97it/s]\u001B[A\n",
      " 68%|██████▊   | 547647/809343 [00:09<00:04, 55814.26it/s]\u001B[A\n",
      " 68%|██████▊   | 553269/809343 [00:09<00:04, 53521.50it/s]\u001B[A\n",
      " 69%|██████▉   | 558658/809343 [00:09<00:04, 51942.65it/s]\u001B[A\n",
      " 70%|██████▉   | 563878/809343 [00:09<00:04, 51946.30it/s]\u001B[A\n",
      " 70%|███████   | 569481/809343 [00:09<00:04, 53097.48it/s]\u001B[A\n",
      " 71%|███████   | 575394/809343 [00:09<00:04, 54832.88it/s]\u001B[A\n",
      " 72%|███████▏  | 581784/809343 [00:09<00:03, 57473.39it/s]\u001B[A\n",
      " 73%|███████▎  | 588071/809343 [00:09<00:03, 59059.14it/s]\u001B[A\n",
      " 74%|███████▎  | 595340/809343 [00:10<00:03, 63087.39it/s]\u001B[A\n",
      " 74%|███████▍  | 602521/809343 [00:10<00:03, 65677.10it/s]\u001B[A\n",
      " 75%|███████▌  | 609130/809343 [00:10<00:03, 65797.75it/s]\u001B[A\n",
      " 76%|███████▌  | 616113/809343 [00:10<00:02, 66998.70it/s]\u001B[A\n",
      " 77%|███████▋  | 623182/809343 [00:10<00:02, 68097.90it/s]\u001B[A\n",
      " 78%|███████▊  | 629998/809343 [00:10<00:02, 67538.82it/s]\u001B[A\n",
      " 79%|███████▊  | 636758/809343 [00:10<00:02, 67244.34it/s]\u001B[A\n",
      " 80%|███████▉  | 643487/809343 [00:10<00:02, 65757.37it/s]\u001B[A\n",
      " 80%|████████  | 650072/809343 [00:10<00:02, 65087.85it/s]\u001B[A\n",
      " 81%|████████  | 656588/809343 [00:10<00:02, 64825.26it/s]\u001B[A\n",
      " 82%|████████▏ | 663075/809343 [00:11<00:02, 64101.35it/s]\u001B[A\n",
      " 83%|████████▎ | 669489/809343 [00:11<00:02, 63555.30it/s]\u001B[A\n",
      " 84%|████████▎ | 675847/809343 [00:11<00:02, 62985.59it/s]\u001B[A\n",
      " 84%|████████▍ | 682148/809343 [00:11<00:02, 62805.72it/s]\u001B[A\n",
      " 85%|████████▌ | 688430/809343 [00:11<00:01, 61902.58it/s]\u001B[A\n",
      " 86%|████████▌ | 694623/809343 [00:11<00:01, 58554.79it/s]\u001B[A\n",
      " 87%|████████▋ | 700512/809343 [00:11<00:01, 55495.19it/s]\u001B[A\n",
      " 87%|████████▋ | 706528/809343 [00:11<00:01, 56768.33it/s]\u001B[A\n",
      " 88%|████████▊ | 712247/809343 [00:11<00:01, 55367.27it/s]\u001B[A\n",
      " 89%|████████▊ | 717815/809343 [00:12<00:01, 54674.29it/s]\u001B[A\n",
      " 89%|████████▉ | 723303/809343 [00:12<00:01, 54528.31it/s]\u001B[A\n",
      " 90%|█████████ | 728769/809343 [00:12<00:01, 54144.30it/s]\u001B[A\n",
      " 91%|█████████ | 734591/809343 [00:12<00:01, 55326.78it/s]\u001B[A\n",
      " 91%|█████████▏| 740538/809343 [00:12<00:01, 56539.18it/s]\u001B[A\n",
      " 92%|█████████▏| 746224/809343 [00:12<00:01, 56622.69it/s]\u001B[A\n",
      " 93%|█████████▎| 752143/809343 [00:12<00:00, 57380.76it/s]\u001B[A\n",
      " 94%|█████████▎| 757887/809343 [00:12<00:00, 57042.57it/s]\u001B[A\n",
      " 94%|█████████▍| 763752/809343 [00:12<00:00, 57515.37it/s]\u001B[A\n",
      " 95%|█████████▌| 769507/809343 [00:12<00:00, 56775.82it/s]\u001B[A\n",
      " 96%|█████████▌| 775653/809343 [00:13<00:00, 58160.01it/s]\u001B[A\n",
      " 97%|█████████▋| 781474/809343 [00:13<00:00, 56719.67it/s]\u001B[A\n",
      " 97%|█████████▋| 787490/809343 [00:13<00:00, 57724.39it/s]\u001B[A\n",
      " 98%|█████████▊| 793273/809343 [00:13<00:00, 57189.74it/s]\u001B[A\n",
      " 99%|█████████▊| 798999/809343 [00:13<00:00, 56882.48it/s]\u001B[A\n",
      "100%|██████████| 809343/809343 [00:13<00:00, 58915.08it/s]\u001B[A\n"
     ]
    }
   ],
   "source": [
    "input_text = [re.sub(r\"[^\\w\\d'\\s]+\", \" \", i) for i in input_text]"
   ],
   "metadata": {
    "collapsed": false,
    "ExecuteTime": {
     "end_time": "2023-12-21T18:26:40.568776Z",
     "start_time": "2023-12-21T18:26:26.827826Z"
    }
   },
   "id": "21ccb67414353512"
  },
  {
   "cell_type": "code",
   "execution_count": 23,
   "outputs": [],
   "source": [
    "input_text = [re.sub(\"\\d+\", \"\", i) for i in input_text]"
   ],
   "metadata": {
    "collapsed": false,
    "ExecuteTime": {
     "end_time": "2023-12-21T18:28:14.248637Z",
     "start_time": "2023-12-21T18:28:04.884848Z"
    }
   },
   "id": "19674d40c316255a"
  },
  {
   "cell_type": "code",
   "execution_count": 24,
   "outputs": [],
   "source": [
    "input_text = [re.sub(\"[x]{2,}\", \"\", i) for i in input_text]"
   ],
   "metadata": {
    "collapsed": false,
    "ExecuteTime": {
     "end_time": "2023-12-21T18:29:33.284497Z",
     "start_time": "2023-12-21T18:29:25.680930Z"
    }
   },
   "id": "1cf646eec7b87503"
  },
  {
   "cell_type": "code",
   "execution_count": 25,
   "outputs": [],
   "source": [
    "input_text = [re.sub(' +', ' ', i) for i in input_text]"
   ],
   "metadata": {
    "collapsed": false,
    "ExecuteTime": {
     "end_time": "2023-12-21T18:30:34.641983Z",
     "start_time": "2023-12-21T18:30:16.116967Z"
    }
   },
   "id": "f9e9ab3183086423"
  },
  {
   "cell_type": "code",
   "execution_count": 31,
   "outputs": [],
   "source": [
    "tokens = [word_tokenize(i) for i in tqdm(input_text)]"
   ],
   "metadata": {
    "collapsed": false,
    "ExecuteTime": {
     "end_time": "2023-12-21T18:41:50.283083Z",
     "start_time": "2023-12-21T18:35:33.355585Z"
    }
   },
   "id": "b632532b4b08fe72"
  },
  {
   "cell_type": "code",
   "execution_count": null,
   "outputs": [],
   "source": [
    "tokens = [i[:20] if len(i) > 19 else [\"<pad>\"] * (20 - len(i)) + i for i in tokens]"
   ],
   "metadata": {
    "collapsed": false
   },
   "id": "24ed4fa8deb92582"
  },
  {
   "cell_type": "code",
   "execution_count": null,
   "outputs": [],
   "source": [
    "tokens = token_index(tokens, vocab)"
   ],
   "metadata": {
    "collapsed": false,
    "is_executing": true,
    "ExecuteTime": {
     "start_time": "2023-12-21T18:41:56.948356Z"
    }
   },
   "id": "3f80aa4f635ea4b9"
  },
  {
   "cell_type": "code",
   "execution_count": null,
   "outputs": [],
   "source": [
    "save_file(c.token_path, tokens)"
   ],
   "metadata": {
    "collapsed": false,
    "is_executing": true,
    "ExecuteTime": {
     "start_time": "2023-12-21T19:50:28.808353Z"
    }
   },
   "id": "5d998677c5c2d0eb"
  },
  {
   "cell_type": "code",
   "execution_count": null,
   "outputs": [],
   "source": [],
   "metadata": {
    "collapsed": false
   },
   "id": "c5193cc30e837ae6"
  }
 ],
 "metadata": {
  "kernelspec": {
   "display_name": "Python 3",
   "language": "python",
   "name": "python3"
  },
  "language_info": {
   "codemirror_mode": {
    "name": "ipython",
    "version": 2
   },
   "file_extension": ".py",
   "mimetype": "text/x-python",
   "name": "python",
   "nbconvert_exporter": "python",
   "pygments_lexer": "ipython2",
   "version": "2.7.6"
  }
 },
 "nbformat": 4,
 "nbformat_minor": 5
}
